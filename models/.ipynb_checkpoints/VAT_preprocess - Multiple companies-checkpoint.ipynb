{
 "cells": [
  {
   "cell_type": "markdown",
   "metadata": {},
   "source": [
    "### Import libraries"
   ]
  },
  {
   "cell_type": "code",
   "execution_count": 1,
   "metadata": {
    "collapsed": true
   },
   "outputs": [],
   "source": [
    "import pandas as pd\n",
    "from pprint import pprint\n",
    "import numpy as np\n",
    "import json\n",
    "from glob import glob\n",
    "import matplotlib.pyplot as plt\n",
    "\n",
    "from scipy.stats import multivariate_normal"
   ]
  },
  {
   "cell_type": "markdown",
   "metadata": {},
   "source": [
    "### Algorithms for processing NaNs"
   ]
  },
  {
   "cell_type": "code",
   "execution_count": 31,
   "metadata": {
    "collapsed": true
   },
   "outputs": [],
   "source": [
    "# GET DATAPOINT FROM AN ACCOUNT, TREATING 'N/A' AS np.nan\n",
    "def process_array(row, status, account):\n",
    "    if row[status][account] == 'N/A':\n",
    "        return np.nan\n",
    "    else:\n",
    "        return row[status][account]\n",
    "    \n",
    "# SUM ACROSS COLUMNS. WHEN ALL COMPONENTS ARE NaN, THE SUM IS NaN    \n",
    "def sum_across_cols(df):\n",
    "    result = df.isnull().sum(axis=1)\n",
    "    result.reindex(df.index, copy=False)\n",
    "    indexes = np.nonzero(result == df.shape[1])    \n",
    "    temp = df.fillna(0)\n",
    "    result = df.sum(skipna=True,axis=1)\n",
    "    result.iloc[indexes] = np.nan    \n",
    "    return result"
   ]
  },
  {
   "cell_type": "markdown",
   "metadata": {},
   "source": [
    "### Load tickers from JSON file"
   ]
  },
  {
   "cell_type": "code",
   "execution_count": 36,
   "metadata": {
    "scrolled": true
   },
   "outputs": [
    {
     "name": "stdout",
     "output_type": "stream",
     "text": [
      "['AAA', 'AAM', 'ABT', 'ACC', 'ACE', 'ACL', 'ACM', 'ADC', 'ADP', 'ADS', 'AGF', 'AGM', 'AGP', 'AGX', 'ALT', 'ALV', 'AMC', 'AMD', 'AME', 'AMV', 'ANV', 'APC', 'API', 'APP', 'ARM', 'ASA', 'ASD', 'ASM', 'ASP', 'ATA', 'ATS', 'AVF', 'B82', 'BAM', 'BBC', 'BBS', 'BCC', 'BCE', 'BCG', 'BCI', 'BCP', 'BDB', 'BDG', 'BDW', 'BED', 'BFC', 'BGM', 'BHP', 'BHS', 'BHT', 'BII', 'BKC', 'BLF', 'BMC', 'BMJ', 'BMN', 'BMP', 'BPC', 'BRC', 'BSC', 'BST', 'BTG', 'BTP', 'BTS', 'BTT', 'BTU', 'BTW', 'BVG', 'BVN', 'BWA', 'BXH', 'C21', 'C32', 'C47', 'C71', 'C92', 'CAN', 'CAP', 'CAV', 'CCI', 'CCL', 'CCM', 'CCR', 'CDC', 'CDH', 'CDN', 'CDO', 'CEC', 'CEO', 'CFC', 'CGP', 'CHP', 'CI5', 'CID', 'CIG', 'CII', 'CJC', 'CKD', 'CKV', 'CLC', 'CLG', 'CLH', 'CLL', 'CLM', 'CLW', 'CMC', 'CMG', 'CMI', 'CMK', 'CMP', 'CMS', 'CMT', 'CMV', 'CMX', 'CNC', 'CNG', 'CNH', 'CNN', 'COM', 'CPC', 'CSC', 'CSM', 'CSV', 'CT3', 'CT6', 'CTA', 'CTB', 'CTC', 'CTD', 'CTI', 'CTN', 'CTT', 'CTX', 'CVN', 'CVT', 'CX8', 'CXH', 'CYC', 'CZC', 'D11', 'D26', 'D2D', 'DAC', 'DAD', 'DAE', 'DAG', 'DAP', 'DAS', 'DAT', 'DBC', 'DBF', 'DBH', 'DBM', 'DBT', 'DC2', 'DC4', 'DCC', 'DCD', 'DCL', 'DCM', 'DCS', 'DDH', 'DDN', 'DDV', 'DGC', 'DGL', 'DGT', 'DGW', 'DHA', 'DHC', 'DHG', 'DHM', 'DHP', 'DHT', 'DIC', 'DID', 'DIG', 'DIH', 'DL1', 'DLC', 'DLD', 'DLG', 'DLR', 'DLT', 'DMC', 'DNC', 'DNF', 'DNL', 'DNM', 'DNP', 'DNR', 'DNS', 'DNW', 'DNY', 'DOP', 'DP3', 'DPC', 'DPM', 'DPP', 'DPR', 'DPS', 'DQC', 'DRC', 'DRH', 'DRL', 'DSN', 'DST', 'DTA', 'DTC', 'DTL', 'DTN', 'DTT', 'DTV', 'DVC', 'DVH', 'DVP', 'DXG', 'DXL', 'DXP', 'DXV', 'DZM', 'E1SSHN30', 'E1VFVN30', 'EBS', 'ECI', 'EFI', 'EID', 'ELC', 'EMC', 'EVE', 'FBA', 'FCC', 'FCM', 'FCN', 'FDC', 'FDT', 'FID', 'FIT', 'FLC', 'FMC', 'FPC', 'FPT', 'G20', 'GAS', 'GDT', 'GDW', 'GER', 'GEX', 'GHC', 'GIL', 'GLT', 'GMC', 'GMD', 'GMX', 'GSM', 'GSP', 'GTA', 'GTC', 'GTH', 'GTN', 'GTT', 'H11', 'HAD', 'HAG', 'HAH', 'HAI', 'HAP', 'HAR', 'HAS', 'HAT', 'HAX', 'HBC', 'HBE', 'HBI', 'HCC', 'HCI', 'HCT', 'HD2', 'HDA', 'HDC', 'HDG', 'HDM', 'HDO', 'HEV', 'HFC', 'HFX', 'HGM', 'HHA', 'HHC', 'HHG', 'HHS', 'HHV', 'HIG', 'HJC', 'HJS', 'HKB', 'HKP', 'HLC', 'HLD', 'HLG', 'HLY', 'HMC', 'HMH', 'HNB', 'HNF', 'HNG', 'HNM', 'HOM', 'HOT', 'HPD', 'HPG', 'HPM', 'HPP', 'HPS', 'HPT', 'HQC', 'HRC', 'HSG', 'HSI', 'HST', 'HT1', 'HTC', 'HTI', 'HTL', 'HTP', 'HTV', 'HU1', 'HU3', 'HU6', 'HUT', 'HVA', 'HVG', 'HVT', 'HVX', 'I10', 'ICC', 'ICF', 'ICG', 'ICI', 'ICN', 'IDI', 'IDJ', 'IDV', 'IFC', 'IHK', 'IJC', 'IME', 'IMP', 'IN4', 'INC', 'INN', 'IPA', 'ISG', 'ISH', 'ITA', 'ITC', 'ITD', 'ITQ', 'ITS', 'JSC', 'JVC', 'KAC', 'KBC', 'KBE', 'KCB', 'KCE', 'KDC', 'KDH', 'KDM', 'KHA', 'KHB', 'KHL', 'KHP', 'KIP', 'KKC', 'KLF', 'KLS', 'KMR', 'KMT', 'KPF', 'KSA', 'KSB', 'KSC', 'KSD', 'KSH', 'KSK', 'KSQ', 'KSS', 'KST', 'KTB', 'KTL', 'KTS', 'KTT', 'KVC', 'L10', 'L14', 'L18', 'L35', 'L43', 'L44', 'L61', 'L62', 'LAF', 'LAI', 'LAS', 'LAW', 'LBE', 'LBM', 'LCC', 'LCD', 'LCG', 'LCM', 'LCS', 'LDG', 'LDP', 'LGC', 'LGL', 'LHC', 'LHG', 'LIG', 'LIX', 'LKW', 'LLG', 'LLS', 'LM3', 'LM7', 'LM8', 'LO5', 'LSS', 'LTC', 'LUT', 'MAC', 'MAS', 'MBG', 'MCC', 'MCF', 'MCG', 'MCI', 'MCO', 'MCP', 'MCV', 'MDC', 'MDF', 'MDG', 'MEC', 'MEF', 'MGC', 'MHC', 'MHL', 'MIC', 'MIM', 'MKP', 'MKT', 'MKV', 'MNC', 'MPT', 'MSN', 'MSR', 'MST', 'MTA', 'MTC', 'MTH', 'MTL', 'MTM', 'MTP', 'MWG', 'NAF', 'NAG', 'NAV', 'NBB', 'NBC', 'NBP', 'NBS', 'NBT', 'NBW', 'NCS', 'NCT', 'ND2', 'NDC', 'NDF', 'NDN', 'NDP', 'NDX', 'NET', 'NFC', 'NGC', 'NHA', 'NHC', 'NHN', 'NHP', 'NKG', 'NLG', 'NMK', 'NNC', 'NNG', 'NNT', 'NOS', 'NPH', 'NPS', 'NQB', 'NSC', 'NSG', 'NST', 'NT2', 'NTL', 'NTP', 'NTW', 'NVT', 'NWT', 'OCH', 'OGC', 'ONE', 'OPC', 'PAC', 'PAN', 'PBP', 'PCE', 'PCG', 'PCN', 'PCT', 'PDB', 'PDC', 'PDN', 'PDR', 'PEC', 'PEN', 'PEQ', 'PET', 'PFL', 'PGC', 'PGD', 'PGS', 'PGT', 'PHC', 'PHH', 'PHP', 'PHR', 'PIC', 'PID', 'PIS', 'PIT', 'PIV', 'PJC', 'PJS', 'PJT', 'PLC', 'PMB', 'PMC', 'PMJ', 'PMP', 'PMS', 'PMT', 'PNC', 'PNG', 'PNJ', 'POM', 'POT', 'POV', 'PPC', 'PPE', 'PPG', 'PPI', 'PPP', 'PPS', 'PPY', 'PRC', 'PRO', 'PSB', 'PSC', 'PSD', 'PSE', 'PSL', 'PSP', 'PSW', 'PTB', 'PTC', 'PTD', 'PTE', 'PTG', 'PTH', 'PTK', 'PTL', 'PTM', 'PTP', 'PTS', 'PTT', 'PV2', 'PVA', 'PVB', 'PVC', 'PVD', 'PVE', 'PVG', 'PVL', 'PVO', 'PVR', 'PVS', 'PVT', 'PVV', 'PVX', 'PX1', 'PXA', 'PXI', 'PXL', 'PXS', 'PXT', 'QBS', 'QCG', 'QHD', 'QNC', 'QPH', 'QST', 'QTC', 'RAL', 'RBC', 'RCD', 'RCL', 'RDP', 'REE', 'RIC', 'S12', 'S33', 'S4A', 'S55', 'S74', 'S99', 'SAF', 'SAM', 'SAP', 'SAS', 'SAV', 'SBA', 'SBT', 'SC5', 'SCD', 'SCI', 'SCJ', 'SCL', 'SCO', 'SCR', 'SD1', 'SD2', 'SD4', 'SD5', 'SD6', 'SD7', 'SD9', 'SDA', 'SDC', 'SDD', 'SDE', 'SDF', 'SDG', 'SDH', 'SDI', 'SDK', 'SDN', 'SDP', 'SDT', 'SDU', 'SDV', 'SDX', 'SDY', 'SEB', 'SED', 'SFC', 'SFG', 'SFI', 'SFN', 'SFT', 'SGC', 'SGD', 'SGH', 'SGN', 'SGO', 'SGP', 'SGR', 'SGS', 'SGT', 'SHA', 'SHG', 'SHI', 'SHN', 'SHP', 'SHV', 'SIC', 'SII', 'SJ1', 'SJC', 'SJD', 'SJE', 'SJS', 'SKG', 'SLC', 'SLS', 'SMA', 'SMB', 'SMC', 'SMN', 'SMT', 'SNC', 'SPC', 'SPD', 'SPH', 'SPI', 'SPM', 'SPP', 'SQC', 'SRA', 'SRB', 'SRC', 'SRF', 'SSC', 'SSF', 'SSG', 'SSM', 'SSN', 'ST8', 'STC', 'STG', 'STK', 'STP', 'STS', 'STT', 'STU', 'STV', 'SVC', 'SVG', 'SVI', 'SVN', 'SVT', 'SWC', 'SZL', 'TA9', 'TAC', 'TAG', 'TBC', 'TBD', 'TBT', 'TBX', 'TC6', 'TCL', 'TCM', 'TCO', 'TCR', 'TCS', 'TCT', 'TDC', 'TDH', 'TDM', 'TDN', 'TDS', 'TDW', 'TEG', 'TET', 'TFC', 'TGP', 'TH1', 'THB', 'THG', 'THS', 'THT', 'THW', 'TIC', 'TIE', 'TIG', 'TIP', 'TIS', 'TIX', 'TJC', 'TKC', 'TKU', 'TL4', 'TLG', 'TLH', 'TMC', 'TMP', 'TMS', 'TMT', 'TMW', 'TMX', 'TNA', 'TNB', 'TNC', 'TND', 'TNG', 'TNM', 'TNT', 'TNY', 'TOP', 'TPC', 'TPH', 'TPP', 'TPS', 'TRA', 'TRC', 'TRI', 'TRS', 'TS4', 'TSB', 'TSC', 'TST', 'TTB', 'TTC', 'TTF', 'TTG', 'TTR', 'TTZ', 'TV1', 'TV2', 'TV3', 'TV4', 'TVC', 'TVD', 'TVG', 'TVM', 'TVN', 'TXM', 'TYA', 'UDC', 'UDJ', 'UEM', 'UIC', 'UNI', 'V11', 'V12', 'V15', 'V21', 'VAF', 'VAT', 'VBC', 'VBH', 'VC1', 'VC2', 'VC3', 'VC5', 'VC6', 'VC7', 'VC9', 'VCA', 'VCC', 'VCF', 'VCG', 'VCM', 'VCR', 'VCS', 'VCT', 'VCX', 'VDL', 'VDN', 'VDT', 'VE1', 'VE2', 'VE3', 'VE4', 'VE8', 'VE9', 'VEF', 'VFG', 'VFR', 'VGC', 'VGG', 'VGP', 'VGS', 'VHC', 'VHF', 'VHG', 'VHL', 'VIC', 'VID', 'VIE', 'VIN', 'VIP', 'VIR', 'VIS', 'VIT', 'VKC', 'VKD', 'VKP', 'VLA', 'VLC', 'VLF', 'VLG', 'VMA', 'VMC', 'VMD', 'VMG', 'VMI', 'VMS', 'VNA', 'VNC', 'VNE', 'VNF', 'VNG', 'VNH', 'VNI', 'VNL', 'VNM', 'VNN', 'VNP', 'VNS', 'VNT', 'VNX', 'VOS', 'VPA', 'VPC', 'VPD', 'VPH', 'VPK', 'VPS', 'VQC', 'VRC', 'VRG', 'VSA', 'VSC', 'VSH', 'VSI', 'VT1', 'VT8', 'VTB', 'VTC', 'VTG', 'VTH', 'VTI', 'VTJ', 'VTL', 'VTM', 'VTO', 'VTS', 'VTV', 'VTX', 'VXB', 'WCS', 'WSB', 'WTC', 'XMD', 'XPH']\n"
     ]
    }
   ],
   "source": [
    "with open(\"tickers_937files.json\") as jsonfile:\n",
    "    tickers = json.load(jsonfile)\n",
    "    jsonfile.close()\n",
    "# print (tickers)"
   ]
  },
  {
   "cell_type": "markdown",
   "metadata": {},
   "source": [
    "### Make index"
   ]
  },
  {
   "cell_type": "code",
   "execution_count": 23,
   "metadata": {},
   "outputs": [
    {
     "name": "stdout",
     "output_type": "stream",
     "text": [
      "['Q1 2011', 'Q2 2011', 'Q3 2011', 'Q4 2011', 'Q1 2012', 'Q2 2012', 'Q3 2012', 'Q4 2012', 'Q1 2013', 'Q2 2013', 'Q3 2013', 'Q4 2013', 'Q1 2014', 'Q2 2014', 'Q3 2014', 'Q4 2014', 'Q1 2015', 'Q2 2015', 'Q3 2015', 'Q4 2015', 'Q1 2016', 'Q2 2016', 'Q3 2016', 'Q4 2016']\n"
     ]
    }
   ],
   "source": [
    "sample = \"Q{0} 201{1}\"\n",
    "index = []\n",
    "for i in range(1,7):\n",
    "    for k in range(1,5):\n",
    "        index.append(sample.format(k,i))\n",
    "print (index)"
   ]
  },
  {
   "cell_type": "markdown",
   "metadata": {},
   "source": [
    "### Name of each account"
   ]
  },
  {
   "cell_type": "code",
   "execution_count": 130,
   "metadata": {
    "collapsed": true,
    "scrolled": true
   },
   "outputs": [],
   "source": [
    "IS_ACCOUNTS = [\"Net sales\",\"Cost of goods sold\",\"Gross Profit\",\"Financial expenses\",\"Of which: Interest expense\",\n",
    "            \"Cost of sales\",\"Enterprise cost management\",\"Total Operating Expenses\",\"Total revenue financing activities\",\n",
    "            \"Net profit from business activities\",\"Profit\",\"Profit before tax\",\"Present corporate income tax expenses\",\n",
    "            \"Deferred income taxes expenses\",\"The interests of minority shareholders\",\"Total Cost of profits\",\n",
    "            \"Profit after tax corporate income\",\"Volume\",\"Close of Quarter\",\"EPS\",\"Non-adjusted EPS\",\"PE\",\"Book Price\"]\n",
    "\n",
    "ASSETS = [\"SHORT-TERM ASSETS\",\"Cash and cash equivalents\",\"Cash\",\"Cash equivalents\",\"Short-term financial investments\",\n",
    "          \"Available for sale securities\",\"Provision for diminution in value of available for sale securities (*)\",\n",
    "          \"Held to maturity investments\",\"Short-term receivables\",\"Short-term trade accounts receivable\",\n",
    "          \"Short-term prepayments to suppliers\",\"Short-term inter-company receivables\",\"Construction contract progress receipts due from customers\",\n",
    "          \"Short-term loan receivables\",\"Other short-term receivables\",\"Provision for short-term doubtful debts (*)\",\n",
    "          \"Assets awaiting resolution\",\"Inventories\",\"Inventories\",\"Provision for decline in value of inventories\",\n",
    "          \"Other short-term assets\",\"Short-term prepayments\",\"Value added tax to be reclaimed\",\n",
    "          \"Taxes and other receivables from state authorities\",\"Government bonds\",\"Other short-term assets\",\"LONG-TERM ASSETS\",\n",
    "          \"Long-term receivables\",\"Long-term trade receivables\",\"Long-term prepayments to suppliers\",\"Capital at inter-company\",\n",
    "          \"Long-term inter-company receivables\",\"Long-term loan receivables\",\"Other long-term receivables\",\n",
    "          \"Provision for long-term doubtful debts\",\"Fixed assets\",\"Tangible fixed assets\",\"Cost\",\"Accumulated depreciation\",\n",
    "          \"Financial leased fixed assets\",\"Cost\",\"Accumulated depreciation\",\"Intangible fixed assets\",\"Cost\",\n",
    "          \"Accumulated depreciation\",\"Investment properties\",\"Cost\",\"Accumulated depreciation\",\"Long-term assets in progress\",\n",
    "          \"Long-term production in progress\",\"Construction in progress\",\"Long-term financial investments\",\n",
    "          \"Investments in subsidiaries\",\"Investments in associates, joint-ventures\",\"Investments in other entities\",\n",
    "          \"Provision for diminution in value of long-term investments\",\"Held to maturity investments\",\n",
    "          \"Other long-term investments\",\"Other long-term assets\",\"Long-term prepayments\",\"Deferred income tax assets\",\n",
    "          \"Long-term equipment, supplies, spare parts\",\"Other long-term assets\",\"Goodwill\",\"TOTAL ASSETS\"]\n",
    "\n",
    "LIABILITIES = [\"LIABILITIES\",\"Short -term liabilities\",\"Short-term trade accounts payable\",\"Short-term advances from customers\",\n",
    "               \"Taxes and other payables to state authorities\",\"Payable to employees\",\"Short-term acrrued expenses\",\n",
    "               \"Short-term inter-company payables\",\"Construction contract progress payments due to suppliers\",\n",
    "               \"Short-term unearned revenue\",\"Other short-term payables\",\"Short-term borrowings and financial leases\",\n",
    "               \"Provision for short-term liabilities\",\"Bonus and welfare fund\",\"Price stabilization fund\",\n",
    "               \"Government bonds\",\"Long-term liabilities\",\"Long-term trade payables\",\"Long-term advances from customers\",\n",
    "               \"Long-term acrrued expenses\",\"Inter-company payables on business capital\",\"Long-term inter-company payables\",\n",
    "               \"Long-term unearned revenue\",\"Other long-term liabilities\",\"Long-term borrowings and financial leases\",\n",
    "               \"Convertible bonds\",\"Preferred stock (Debts)\",\"Deferred income tax liabilities\",\"Provision for long-term liabilities\",\n",
    "               \"Fund for technology development\",\"Provision for severance allowances\"]\n",
    "\n",
    "EQUITY = [\"OWNER'S EQUITY\",\"Owner's equity\",\"Owner's capital\",\"Common stock with voting right\",\"Preferred stock\",\"Share premium\",\n",
    "          \"Convertible bond option\",\"Other capital of owners\",\"Treasury shares\",\"Assets revaluation differences\",\n",
    "          \"Foreign exchange differences\",\"Investment and development fund\",\"Fund to support corporate restructuring\",\n",
    "          \"Other funds from owner's equity\",\"Undistributed earnings after tax\",\"Accumulated retained earning at the end of the previous period\",\n",
    "          \"Undistributed earnings in this period\",\"Reserves for investment in construction\",\"Minority's interest\",\n",
    "          \"Financial reserves\",\"Other resources and funds\",\"Subsidized not-for-profit funds\",\"Funds invested in fixed assets\",\n",
    "          \"MINORITY'S INTEREST\",\"TOTAL OWNER'S EQUITY AND LIABILITIES\"]\n",
    "\n",
    "CF_indirect = ['net_profit_before_tax','adjustments','depreciation_amortization','provisions','net_profit_from_investment_in_joint_venture',\n",
    "                    'write_off_fixed_assets','unrealised_foreign_exchange_profit','profit_from_disposals_of_fixed_assets',\n",
    "                    'profit_from_investing_activities','profit_from_deposit','interest_income','interest_expense',\n",
    "                    'payments_direct_from_profit','operating_profit_before_working_capital_changes','increase_decrease_in_receivables',\n",
    "                    'increase_decrease_in_inventories','increase_decrease_in_payables','increase_decrease_in_prepaid_expense',\n",
    "                    'increase_decrease_in_current_assets','cash_paid_for_interest','cash_paid_for_taxes',\n",
    "                    'other_cash_from_operating_activities','other_payments_from_operating_activities','net_cash_from_operating',\n",
    "                    'cash_paid_for_new_PPE','cash_collected_from_PPE_sales','cash_paid_for_loans','cash_collected_from_loans',\n",
    "                    'investment_in_joint_venture','purchases_of_short_term_investment','cash_paid_for_investments_in_other_companies',\n",
    "                    'cash_collected_from_investments_in_other_companies','interest_collected_from_deposits',\n",
    "                    'cash_collected_from_interest','purchases_of_minority equity','net_cash_from_investing',\n",
    "                    'cash_collected_from_issuing_shares','cash_paid_for_capital_contribution','cash_paid_for_short_term_borrowing',\n",
    "                    'cash_paid_for_principles','cash_paid_for_financial_lease','other_cash_paid_for_financial_activities',\n",
    "                    'purchase_from_capitalization_issues','dividends_paid','minority_equity_in_joint_venture',\n",
    "                    'social_welfare_expenses','net_cash_from_financing','net_cash_flow','cash_cash_equivalent_begin',\n",
    "                    'effects_of_exchange_rate','cash_cash_equivalent_end']\n",
    "\n",
    "CF_direct = ['cash_collected_from_customers','cash_paid_for_suppliers','cash_paid_for_employees','cash_paid_for_interest',\n",
    "                  'cash_paid_for_taxes','cash_paid_for_VAT','other_cash_collected_for_operating_activities',\n",
    "                  'other_cash_paid_for_operating_activities','net_cash_from_operating','cash_paid_for_new_PPE',\n",
    "                  'cash_collected_from_PPE_sales','cash_paid_for_loans','cash_collected_from_loans',\n",
    "                  'cash_paid_for_investments_in_other_companies','cash_collected_from_investments_in_other_companies',\n",
    "                  'cash_collected_from_interest','net_cash_from_investing','cash_collected_from_issuing_shares',\n",
    "                  'cash_paid_for_capital_contribution','cash_paid_for_short_term_borrowing','cash_paid_for_principles',\n",
    "                  'cash_paid_for_PPE_lease','cash_paid_for_financial_lease','dividends_paid','cash_paid_for_firm_funds',\n",
    "                  'net_cash_from_financing','net_cash_flow','cash_cash_equivalent_begin','effects_of_exchange_rate',\n",
    "                  'cash_cash_equivalent_end']\n",
    "\n",
    "financial_index = ['current_ratio','quick_ratio','cash_ratio','long_term_debt_to_equity','total_debt_to_equity','debt_ratio',\n",
    "                    'financial_leverage','interest_coverage','net_profit_margin','operating_profit_margin',\n",
    "                    'gross_profit_margin','pretax_margin','average_total_assets','ROA','operating_ROA','average_total_capital',\n",
    "                    'ROC','average_total_equity','ROE','average_receivables','receivables_turnover','average_inventory',\n",
    "                    'inventory_turnover','average_payables','payables_turnover','book_value_per_share','price_earnings',\n",
    "                    'book_price','cash_ROA','cash_flow_on_revenue','cash_ROE','cash_on_income','debt_coverage','cash_interest_coverage',\n",
    "                    'reinvestment','total_net_accruals','cash_earnings']\n",
    "\n",
    "headers = IS_ACCOUNTS + ASSETS + LIABILITIES + EQUITY + list(set(CF_indirect + CF_direct)) + financial_index\n",
    "# print (accounts)"
   ]
  },
  {
   "cell_type": "markdown",
   "metadata": {},
   "source": [
    "### Big DataFrame"
   ]
  },
  {
   "cell_type": "code",
   "execution_count": 131,
   "metadata": {},
   "outputs": [],
   "source": [
    "main_index = pd.MultiIndex.from_product([tickers, index])\n",
    "main_df = pd.DataFrame(np.nan,index=main_index,columns=headers)"
   ]
  },
  {
   "cell_type": "markdown",
   "metadata": {},
   "source": [
    "### Load JSON data for each ticker"
   ]
  },
  {
   "cell_type": "code",
   "execution_count": 132,
   "metadata": {
    "scrolled": true
   },
   "outputs": [
    {
     "ename": "KeyError",
     "evalue": "0.0",
     "output_type": "error",
     "traceback": [
      "\u001b[1;31m---------------------------------------------------------------------------\u001b[0m",
      "\u001b[1;31mKeyError\u001b[0m                                  Traceback (most recent call last)",
      "\u001b[1;32mC:\\Anaconda3\\lib\\site-packages\\pandas\\core\\indexes\\base.py\u001b[0m in \u001b[0;36mget_loc\u001b[1;34m(self, key, method, tolerance)\u001b[0m\n\u001b[0;32m   2441\u001b[0m             \u001b[1;32mtry\u001b[0m\u001b[1;33m:\u001b[0m\u001b[1;33m\u001b[0m\u001b[0m\n\u001b[1;32m-> 2442\u001b[1;33m                 \u001b[1;32mreturn\u001b[0m \u001b[0mself\u001b[0m\u001b[1;33m.\u001b[0m\u001b[0m_engine\u001b[0m\u001b[1;33m.\u001b[0m\u001b[0mget_loc\u001b[0m\u001b[1;33m(\u001b[0m\u001b[0mkey\u001b[0m\u001b[1;33m)\u001b[0m\u001b[1;33m\u001b[0m\u001b[0m\n\u001b[0m\u001b[0;32m   2443\u001b[0m             \u001b[1;32mexcept\u001b[0m \u001b[0mKeyError\u001b[0m\u001b[1;33m:\u001b[0m\u001b[1;33m\u001b[0m\u001b[0m\n",
      "\u001b[1;32mpandas\\_libs\\index.pyx\u001b[0m in \u001b[0;36mpandas._libs.index.IndexEngine.get_loc (pandas\\_libs\\index.c:5280)\u001b[1;34m()\u001b[0m\n",
      "\u001b[1;32mpandas\\_libs\\index.pyx\u001b[0m in \u001b[0;36mpandas._libs.index.IndexEngine.get_loc (pandas\\_libs\\index.c:5126)\u001b[1;34m()\u001b[0m\n",
      "\u001b[1;32mpandas\\_libs\\hashtable_class_helper.pxi\u001b[0m in \u001b[0;36mpandas._libs.hashtable.Float64HashTable.get_item (pandas\\_libs\\hashtable.c:7471)\u001b[1;34m()\u001b[0m\n",
      "\u001b[1;32mpandas\\_libs\\hashtable_class_helper.pxi\u001b[0m in \u001b[0;36mpandas._libs.hashtable.Float64HashTable.get_item (pandas\\_libs\\hashtable.c:7415)\u001b[1;34m()\u001b[0m\n",
      "\u001b[1;31mKeyError\u001b[0m: 0.0",
      "\nDuring handling of the above exception, another exception occurred:\n",
      "\u001b[1;31mKeyError\u001b[0m                                  Traceback (most recent call last)",
      "\u001b[1;32m<ipython-input-132-de45022d3afd>\u001b[0m in \u001b[0;36m<module>\u001b[1;34m()\u001b[0m\n\u001b[0;32m     38\u001b[0m \u001b[1;33m\u001b[0m\u001b[0m\n\u001b[0;32m     39\u001b[0m     \u001b[1;31m# Cash flow statement\u001b[0m\u001b[1;33m\u001b[0m\u001b[1;33m\u001b[0m\u001b[0m\n\u001b[1;32m---> 40\u001b[1;33m     \u001b[1;32mif\u001b[0m \u001b[0mCF_df\u001b[0m\u001b[1;33m[\u001b[0m\u001b[1;34m'type'\u001b[0m\u001b[1;33m]\u001b[0m\u001b[1;33m[\u001b[0m\u001b[1;36m0\u001b[0m\u001b[1;33m]\u001b[0m \u001b[1;33m==\u001b[0m \u001b[1;34m\"indirect\"\u001b[0m\u001b[1;33m:\u001b[0m\u001b[1;33m\u001b[0m\u001b[0m\n\u001b[0m\u001b[0;32m     41\u001b[0m         \u001b[1;32mfor\u001b[0m \u001b[0maccount\u001b[0m \u001b[1;32min\u001b[0m \u001b[0mCF_indirect\u001b[0m\u001b[1;33m:\u001b[0m\u001b[1;33m\u001b[0m\u001b[0m\n\u001b[0;32m     42\u001b[0m             \u001b[0marray\u001b[0m \u001b[1;33m=\u001b[0m \u001b[0mnp\u001b[0m\u001b[1;33m.\u001b[0m\u001b[0marray\u001b[0m\u001b[1;33m(\u001b[0m\u001b[1;33m[\u001b[0m \u001b[0mprocess_array\u001b[0m\u001b[1;33m(\u001b[0m\u001b[0mrow\u001b[0m\u001b[1;33m,\u001b[0m \u001b[1;34m'cash_flow_status'\u001b[0m\u001b[1;33m,\u001b[0m \u001b[0maccount\u001b[0m\u001b[1;33m)\u001b[0m \u001b[1;32mfor\u001b[0m \u001b[0mrow\u001b[0m \u001b[1;32min\u001b[0m \u001b[0mCF_df\u001b[0m\u001b[1;33m[\u001b[0m\u001b[1;34m'data'\u001b[0m\u001b[1;33m]\u001b[0m \u001b[1;33m]\u001b[0m\u001b[1;33m)\u001b[0m\u001b[1;33m\u001b[0m\u001b[0m\n",
      "\u001b[1;32mC:\\Anaconda3\\lib\\site-packages\\pandas\\core\\series.py\u001b[0m in \u001b[0;36m__getitem__\u001b[1;34m(self, key)\u001b[0m\n\u001b[0;32m    599\u001b[0m         \u001b[0mkey\u001b[0m \u001b[1;33m=\u001b[0m \u001b[0mcom\u001b[0m\u001b[1;33m.\u001b[0m\u001b[0m_apply_if_callable\u001b[0m\u001b[1;33m(\u001b[0m\u001b[0mkey\u001b[0m\u001b[1;33m,\u001b[0m \u001b[0mself\u001b[0m\u001b[1;33m)\u001b[0m\u001b[1;33m\u001b[0m\u001b[0m\n\u001b[0;32m    600\u001b[0m         \u001b[1;32mtry\u001b[0m\u001b[1;33m:\u001b[0m\u001b[1;33m\u001b[0m\u001b[0m\n\u001b[1;32m--> 601\u001b[1;33m             \u001b[0mresult\u001b[0m \u001b[1;33m=\u001b[0m \u001b[0mself\u001b[0m\u001b[1;33m.\u001b[0m\u001b[0mindex\u001b[0m\u001b[1;33m.\u001b[0m\u001b[0mget_value\u001b[0m\u001b[1;33m(\u001b[0m\u001b[0mself\u001b[0m\u001b[1;33m,\u001b[0m \u001b[0mkey\u001b[0m\u001b[1;33m)\u001b[0m\u001b[1;33m\u001b[0m\u001b[0m\n\u001b[0m\u001b[0;32m    602\u001b[0m \u001b[1;33m\u001b[0m\u001b[0m\n\u001b[0;32m    603\u001b[0m             \u001b[1;32mif\u001b[0m \u001b[1;32mnot\u001b[0m \u001b[0mis_scalar\u001b[0m\u001b[1;33m(\u001b[0m\u001b[0mresult\u001b[0m\u001b[1;33m)\u001b[0m\u001b[1;33m:\u001b[0m\u001b[1;33m\u001b[0m\u001b[0m\n",
      "\u001b[1;32mC:\\Anaconda3\\lib\\site-packages\\pandas\\core\\indexes\\numeric.py\u001b[0m in \u001b[0;36mget_value\u001b[1;34m(self, series, key)\u001b[0m\n\u001b[0;32m    317\u001b[0m \u001b[1;33m\u001b[0m\u001b[0m\n\u001b[0;32m    318\u001b[0m         \u001b[0mk\u001b[0m \u001b[1;33m=\u001b[0m \u001b[0m_values_from_object\u001b[0m\u001b[1;33m(\u001b[0m\u001b[0mkey\u001b[0m\u001b[1;33m)\u001b[0m\u001b[1;33m\u001b[0m\u001b[0m\n\u001b[1;32m--> 319\u001b[1;33m         \u001b[0mloc\u001b[0m \u001b[1;33m=\u001b[0m \u001b[0mself\u001b[0m\u001b[1;33m.\u001b[0m\u001b[0mget_loc\u001b[0m\u001b[1;33m(\u001b[0m\u001b[0mk\u001b[0m\u001b[1;33m)\u001b[0m\u001b[1;33m\u001b[0m\u001b[0m\n\u001b[0m\u001b[0;32m    320\u001b[0m         \u001b[0mnew_values\u001b[0m \u001b[1;33m=\u001b[0m \u001b[0m_values_from_object\u001b[0m\u001b[1;33m(\u001b[0m\u001b[0mseries\u001b[0m\u001b[1;33m)\u001b[0m\u001b[1;33m[\u001b[0m\u001b[0mloc\u001b[0m\u001b[1;33m]\u001b[0m\u001b[1;33m\u001b[0m\u001b[0m\n\u001b[0;32m    321\u001b[0m \u001b[1;33m\u001b[0m\u001b[0m\n",
      "\u001b[1;32mC:\\Anaconda3\\lib\\site-packages\\pandas\\core\\indexes\\numeric.py\u001b[0m in \u001b[0;36mget_loc\u001b[1;34m(self, key, method, tolerance)\u001b[0m\n\u001b[0;32m    374\u001b[0m             \u001b[1;32mpass\u001b[0m\u001b[1;33m\u001b[0m\u001b[0m\n\u001b[0;32m    375\u001b[0m         return super(Float64Index, self).get_loc(key, method=method,\n\u001b[1;32m--> 376\u001b[1;33m                                                  tolerance=tolerance)\n\u001b[0m\u001b[0;32m    377\u001b[0m \u001b[1;33m\u001b[0m\u001b[0m\n\u001b[0;32m    378\u001b[0m     \u001b[1;33m@\u001b[0m\u001b[0mcache_readonly\u001b[0m\u001b[1;33m\u001b[0m\u001b[0m\n",
      "\u001b[1;32mC:\\Anaconda3\\lib\\site-packages\\pandas\\core\\indexes\\base.py\u001b[0m in \u001b[0;36mget_loc\u001b[1;34m(self, key, method, tolerance)\u001b[0m\n\u001b[0;32m   2442\u001b[0m                 \u001b[1;32mreturn\u001b[0m \u001b[0mself\u001b[0m\u001b[1;33m.\u001b[0m\u001b[0m_engine\u001b[0m\u001b[1;33m.\u001b[0m\u001b[0mget_loc\u001b[0m\u001b[1;33m(\u001b[0m\u001b[0mkey\u001b[0m\u001b[1;33m)\u001b[0m\u001b[1;33m\u001b[0m\u001b[0m\n\u001b[0;32m   2443\u001b[0m             \u001b[1;32mexcept\u001b[0m \u001b[0mKeyError\u001b[0m\u001b[1;33m:\u001b[0m\u001b[1;33m\u001b[0m\u001b[0m\n\u001b[1;32m-> 2444\u001b[1;33m                 \u001b[1;32mreturn\u001b[0m \u001b[0mself\u001b[0m\u001b[1;33m.\u001b[0m\u001b[0m_engine\u001b[0m\u001b[1;33m.\u001b[0m\u001b[0mget_loc\u001b[0m\u001b[1;33m(\u001b[0m\u001b[0mself\u001b[0m\u001b[1;33m.\u001b[0m\u001b[0m_maybe_cast_indexer\u001b[0m\u001b[1;33m(\u001b[0m\u001b[0mkey\u001b[0m\u001b[1;33m)\u001b[0m\u001b[1;33m)\u001b[0m\u001b[1;33m\u001b[0m\u001b[0m\n\u001b[0m\u001b[0;32m   2445\u001b[0m \u001b[1;33m\u001b[0m\u001b[0m\n\u001b[0;32m   2446\u001b[0m         \u001b[0mindexer\u001b[0m \u001b[1;33m=\u001b[0m \u001b[0mself\u001b[0m\u001b[1;33m.\u001b[0m\u001b[0mget_indexer\u001b[0m\u001b[1;33m(\u001b[0m\u001b[1;33m[\u001b[0m\u001b[0mkey\u001b[0m\u001b[1;33m]\u001b[0m\u001b[1;33m,\u001b[0m \u001b[0mmethod\u001b[0m\u001b[1;33m=\u001b[0m\u001b[0mmethod\u001b[0m\u001b[1;33m,\u001b[0m \u001b[0mtolerance\u001b[0m\u001b[1;33m=\u001b[0m\u001b[0mtolerance\u001b[0m\u001b[1;33m)\u001b[0m\u001b[1;33m\u001b[0m\u001b[0m\n",
      "\u001b[1;32mpandas\\_libs\\index.pyx\u001b[0m in \u001b[0;36mpandas._libs.index.IndexEngine.get_loc (pandas\\_libs\\index.c:5280)\u001b[1;34m()\u001b[0m\n",
      "\u001b[1;32mpandas\\_libs\\index.pyx\u001b[0m in \u001b[0;36mpandas._libs.index.IndexEngine.get_loc (pandas\\_libs\\index.c:5126)\u001b[1;34m()\u001b[0m\n",
      "\u001b[1;32mpandas\\_libs\\hashtable_class_helper.pxi\u001b[0m in \u001b[0;36mpandas._libs.hashtable.Float64HashTable.get_item (pandas\\_libs\\hashtable.c:7471)\u001b[1;34m()\u001b[0m\n",
      "\u001b[1;32mpandas\\_libs\\hashtable_class_helper.pxi\u001b[0m in \u001b[0;36mpandas._libs.hashtable.Float64HashTable.get_item (pandas\\_libs\\hashtable.c:7415)\u001b[1;34m()\u001b[0m\n",
      "\u001b[1;31mKeyError\u001b[0m: 0.0"
     ]
    }
   ],
   "source": [
    "for ticker in tickers[0:100]:\n",
    "# ticker = \"AAA\"\n",
    "    IS_file = sorted(glob(\"jsons/IS/\" + \"*_{}.json\".format(ticker)))[0]\n",
    "    BS_file = sorted(glob(\"jsons/BS/\" + \"*_{}.json\".format(ticker)))[0]\n",
    "    CF_file = sorted(glob(\"jsons/CF/\" + \"*_{}.json\".format(ticker)))[0]\n",
    "    \n",
    "    IS_df = pd.read_json(IS_file)\n",
    "    IS_df['index'] = np.array([row['quarter'] for row in IS_df['data']])\n",
    "    IS_df.set_index('index', inplace=True)\n",
    "    \n",
    "    BS_df = pd.read_json(BS_file)\n",
    "    BS_df['index'] = np.array([row['quarter'] for row in BS_df['data']])\n",
    "    BS_df.set_index('index', inplace=True)\n",
    "    \n",
    "    CF_df = pd.read_json(CF_file)\n",
    "    CF_df['index'] = np.array([row['quarter'] for row in CF_df['data']])\n",
    "    CF_df.set_index('index', inplace=True)\n",
    "    \n",
    "#     print (IS_df['data'])\n",
    "    \n",
    "    # Income statement\n",
    "    for account in IS_ACCOUNTS:\n",
    "        array = np.array([ process_array(row, 'income status', account) for row in IS_df['data'] ])\n",
    "        IS_df[account] = array\n",
    "    IS_df.drop('data', 1, inplace=True)       \n",
    "    \n",
    "    # Balance sheet\n",
    "    for account in ASSETS:\n",
    "        array = np.array([ process_array(row, 'assets', account) for row in BS_df['data'] ])\n",
    "        BS_df[account] = array\n",
    "    for account in LIABILITIES:\n",
    "        array = np.array([ process_array(row, 'liabilities', account) for row in BS_df['data'] ])\n",
    "        BS_df[account] = array\n",
    "    for account in EQUITY:\n",
    "        array = np.array([ process_array(row, 'equity', account) for row in BS_df['data'] ])\n",
    "        BS_df[account] = array\n",
    "    BS_df.drop('data', 1, inplace=True)\n",
    "\n",
    "    # Cash flow statement\n",
    "    if CF_df['type'][0] == \"indirect\":\n",
    "        for account in CF_indirect:\n",
    "            array = np.array([ process_array(row, 'cash_flow_status', account) for row in CF_df['data'] ])\n",
    "            CF_df[account] = array\n",
    "\n",
    "        CF_df['net_cash_from_operating'].fillna(sum_across_cols(CF_df[['operating_profit_before_working_capital_changes',\n",
    "                                                                          'increase_decrease_in_receivables',\n",
    "                                                                          'increase_decrease_in_inventories',\n",
    "                                                                          'increase_decrease_in_payables',\n",
    "                                                                          'increase_decrease_in_prepaid_expense',\n",
    "                                                                          'increase_decrease_in_current_assets',\n",
    "                                                                          'cash_paid_for_interest',\n",
    "                                                                          'cash_paid_for_taxes',\n",
    "                                                                          'other_cash_from_operating_activities',\n",
    "                                                                          'other_payments_from_operating_activities']]),inplace=True)\n",
    "        CF_df['net_cash_from_investing'].fillna(sum_across_cols(CF_df[['cash_paid_for_new_PPE',\n",
    "                                                                        'cash_collected_from_PPE_sales',\n",
    "                                                                        'cash_paid_for_loans',\n",
    "                                                                        'cash_collected_from_loans',\n",
    "                                                                        'investment_in_joint_venture',\n",
    "                                                                        'purchases_of_short_term_investment',\n",
    "                                                                        'cash_paid_for_investments_in_other_companies',\n",
    "                                                                        'cash_collected_from_investments_in_other_companies',\n",
    "                                                                        'interest_collected_from_deposits',\n",
    "                                                                        'cash_collected_from_interest',\n",
    "                                                                        'purchases_of_minority equity']]))\n",
    "        CF_df['net_cash_from_financing'].fillna(sum_across_cols(CF_df[['cash_collected_from_issuing_shares',\n",
    "                                                                        'cash_paid_for_capital_contribution',\n",
    "                                                                        'cash_paid_for_short_term_borrowing',\n",
    "                                                                        'cash_paid_for_principles',\n",
    "                                                                        'cash_paid_for_financial_lease',\n",
    "                                                                        'other_cash_paid_for_financial_activities',\n",
    "                                                                        'purchase_from_capitalization_issues',\n",
    "                                                                        'dividends_paid',\n",
    "                                                                        'minority_equity_in_joint_venture',\n",
    "                                                                        'social_welfare_expenses']]))\n",
    "    else:\n",
    "        for account in CF_direct:\n",
    "            array = np.array([ process_array(row, 'cash_flow_status', account) for row in CF_df['data'] ])\n",
    "            CF_df[account] = array\n",
    "\n",
    "        CF_df['net_cash_from_operating'].fillna(sum_across_cols(CF_df[['cash_collected_from_customers',\n",
    "                                                                      'cash_paid_for_suppliers',\n",
    "                                                                      'cash_paid_for_employees',\n",
    "                                                                      'cash_paid_for_interest',\n",
    "                                                                      'cash_paid_for_taxes',\n",
    "                                                                      'cash_paid_for_VAT',\n",
    "                                                                      'other_cash_collected_for_operating_activities',\n",
    "                                                                      'other_cash_paid_for_operating_activities']]))\n",
    "        CF_df['net_cash_from_investing'].fillna(sum_across_cols(CF_df[['cash_paid_for_new_PPE',\n",
    "                                                                          'cash_collected_from_PPE_sales',\n",
    "                                                                          'cash_paid_for_loans',\n",
    "                                                                          'cash_collected_from_loans',\n",
    "                                                                          'cash_paid_for_investments_in_other_companies',\n",
    "                                                                          'cash_collected_from_investments_in_other_companies',\n",
    "                                                                          'cash_collected_from_interest']]))\n",
    "        CF_df['net_cash_from_financing'].fillna(sum_across_cols(CF_df[['cash_collected_from_issuing_shares',\n",
    "                                                                          'cash_paid_for_capital_contribution',\n",
    "                                                                          'cash_paid_for_short_term_borrowing',\n",
    "                                                                          'cash_paid_for_principles',\n",
    "                                                                          'cash_paid_for_PPE_lease',\n",
    "                                                                          'cash_paid_for_financial_lease',\n",
    "                                                                          'dividends_paid',\n",
    "                                                                          'cash_paid_for_firm_funds']]))\n",
    "\n",
    "    CF_df['net_cash_flow'].fillna(sum_across_cols(CF_df[['net_cash_from_operating', 'net_cash_from_investing', 'net_cash_from_financing']]))\n",
    "    CF_df.drop('data', 1, inplace=True)\n",
    "    \n",
    "    # Merge 3 DataFrames\n",
    "    IS_CF = pd.merge(IS_df, CF_df, left_index=True, right_index=True, how='outer')\n",
    "    IS_CF_BS = pd.merge(IS_CF, BS_df, left_index=True, right_index=True, how='outer')\n",
    "\n",
    "    # Reindex\n",
    "#     reindex = sorted(IS_CF_BS.index, key = lambda x: int(x.split(\" \")[1]))\n",
    "#     IS_CF_BS_reindexed = IS_CF_BS.reindex(reindex)\n",
    "    \n",
    "    main_df.loc[ticker].update(IS_CF_BS)\n",
    "    \n",
    "    # Calculate financial indices\n",
    "    main_df.loc[ticker]['current_ratio'] = main_df.loc[ticker]['SHORT-TERM ASSETS'] / main_df.loc[ticker]['Short -term liabilities']\n",
    "    main_df.loc[ticker]['quick_ratio'] = sum_across_cols(main_df.loc[ticker][['Cash and cash equivalents', 'Short-term receivables',  'Short-term trade accounts receivable', 'Short-term inter-company receivables', 'Short-term loan receivables', 'Other short-term receivables', 'Taxes and other receivables from state authorities']]) / main_df.loc[ticker]['Short -term liabilities']\n",
    "    main_df.loc[ticker]['cash_ratio'] = main_df.loc[ticker]['Cash and cash equivalents'] / main_df.loc[ticker]['Short -term liabilities']\n",
    "    main_df.loc[ticker]['long_term_debt_to_equity'] = main_df.loc[ticker]['Long-term liabilities'] / (main_df.loc[ticker]['TOTAL OWNER\\'S EQUITY AND LIABILITIES'] - main_df.loc[ticker]['LIABILITIES'])\n",
    "    main_df.loc[ticker]['total_debt_to_equity'] = main_df.loc[ticker]['LIABILITIES'] / (main_df.loc[ticker]['TOTAL OWNER\\'S EQUITY AND LIABILITIES'] - main_df.loc[ticker]['LIABILITIES'])\n",
    "    main_df.loc[ticker]['debt_ratio'] = main_df.loc[ticker]['LIABILITIES'] / main_df.loc[ticker]['TOTAL ASSETS']\n",
    "    main_df.loc[ticker]['financial_leverage'] = main_df.loc[ticker]['TOTAL ASSETS'] / (main_df.loc[ticker]['TOTAL OWNER\\'S EQUITY AND LIABILITIES'] - main_df.loc[ticker]['LIABILITIES'])\n",
    "    main_df.loc[ticker]['interest_coverage'] = sum_across_cols(main_df.loc[ticker][['Profit before tax', 'Of which: Interest expense']]) / main_df.loc[ticker]['Of which: Interest expense']\n",
    "    main_df.loc[ticker]['net_profit_margin'] = main_df.loc[ticker]['Profit after tax corporate income'] / main_df.loc[ticker]['Net sales']\n",
    "    main_df.loc[ticker]['operating_profit_margin'] = sum_across_cols(main_df.loc[ticker][['Profit before tax', 'Of which: Interest expense']]) / main_df.loc[ticker]['Net sales']\n",
    "    main_df.loc[ticker]['gross_profit_margin'] = main_df.loc[ticker]['Gross Profit'] / main_df.loc[ticker]['Net sales']\n",
    "    main_df.loc[ticker]['pretax_margin'] = main_df.loc[ticker]['Profit before tax'] / main_df.loc[ticker]['Net sales']\n",
    "\n",
    "    main_df.loc[ticker]['average_total_assets'] = main_df.loc[ticker]['TOTAL ASSETS'].rolling(2, min_periods=1).mean()\n",
    "    main_df.loc[ticker]['ROA'] = main_df.loc[ticker]['Profit after tax corporate income'] / main_df.loc[ticker]['average_total_assets']\n",
    "    main_df.loc[ticker]['operating_ROA'] = sum_across_cols(main_df.loc[ticker][['Profit before tax', 'Of which: Interest expense']]) / main_df.loc[ticker]['average_total_assets']\n",
    "\n",
    "    main_df.loc[ticker]['average_total_capital'] = main_df.loc[ticker]['Owner\\'s capital'].rolling(2, min_periods=1).mean()\n",
    "    main_df.loc[ticker]['ROC'] = sum_across_cols(main_df.loc[ticker][['Profit before tax', 'Of which: Interest expense']]) / main_df.loc[ticker]['average_total_capital']\n",
    "\n",
    "    main_df.loc[ticker]['average_total_equity'] = (main_df.loc[ticker]['TOTAL OWNER\\'S EQUITY AND LIABILITIES'] - main_df.loc[ticker]['LIABILITIES']).rolling(2, min_periods=1).mean()\n",
    "    main_df.loc[ticker]['ROE'] = main_df.loc[ticker]['Profit after tax corporate income'] / main_df.loc[ticker]['average_total_equity']\n",
    "\n",
    "    main_df.loc[ticker]['average_receivables'] = sum_across_cols(main_df.loc[ticker][['Short-term receivables', 'Short-term trade accounts receivable']]).rolling(2, min_periods=1).mean()\n",
    "    main_df.loc[ticker]['receivables_turnover'] = main_df.loc[ticker]['Net sales'] / main_df.loc[ticker]['average_receivables']\n",
    "\n",
    "    main_df.loc[ticker]['average_inventory'] = sum_across_cols(main_df.loc[ticker][['Inventories', 'Provision for decline in value of inventories']]).rolling(2, min_periods=1).mean()\n",
    "    main_df.loc[ticker]['inventory_turnover'] = main_df.loc[ticker]['Cost of goods sold'] / main_df.loc[ticker]['average_inventory']\n",
    "\n",
    "    main_df.loc[ticker]['average_payables'] = main_df.loc[ticker]['Short-term trade accounts payable'].rolling(window=2, min_periods=1).mean()\n",
    "    main_df.loc[ticker]['payables_turnover'] = (sum_across_cols(main_df.loc[ticker][['Inventories', 'Provision for decline in value of inventories']]).diff(1).fillna(0) + main_df.loc[ticker]['Cost of goods sold']) / main_df.loc[ticker]['average_payables']\n",
    "\n",
    "    main_df.loc[ticker]['book_value_per_share'] = (main_df.loc[ticker]['TOTAL OWNER\\'S EQUITY AND LIABILITIES'] - main_df.loc[ticker]['LIABILITIES']) / main_df.loc[ticker]['Volume']\n",
    "    main_df.loc[ticker]['price_earnings'] = main_df.loc[ticker]['PE']\n",
    "    main_df.loc[ticker]['book_price'] = main_df.loc[ticker]['Book Price']\n",
    "    main_df.loc[ticker]['cash_ROA'] = main_df.loc[ticker]['net_cash_from_operating'] / main_df.loc[ticker]['average_total_assets']\n",
    "    main_df.loc[ticker]['cash_flow_on_revenue'] = main_df.loc[ticker]['net_cash_from_operating'] / main_df.loc[ticker]['Net sales']\n",
    "    main_df.loc[ticker]['cash_ROE'] = main_df.loc[ticker]['net_cash_from_operating'] / main_df.loc[ticker]['average_total_equity']\n",
    "    main_df.loc[ticker]['cash_on_income'] = main_df.loc[ticker]['net_cash_from_operating'] / sum_across_cols(main_df.loc[ticker][['Profit before tax', 'Of which: Interest expense']])\n",
    "    main_df.loc[ticker]['debt_coverage'] = main_df.loc[ticker]['net_cash_from_operating'] / main_df.loc[ticker]['LIABILITIES']\n",
    "    main_df.loc[ticker]['cash_interest_coverage'] = sum_across_cols(main_df.loc[ticker][['net_cash_from_operating', 'cash_paid_for_interest', 'cash_paid_for_taxes']]) / main_df.loc[ticker]['cash_paid_for_interest']\n",
    "    main_df.loc[ticker]['reinvestment'] = main_df.loc[ticker]['net_cash_from_operating'] / main_df.loc[ticker]['cash_paid_for_new_PPE']\n",
    "    main_df.loc[ticker]['total_net_accruals'] = main_df.loc[ticker]['TOTAL ASSETS'].diff(1).fillna(0) - main_df.loc[ticker]['LIABILITIES'].diff(1).fillna(0) - main_df.loc[ticker]['net_cash_flow']\n",
    "    main_df.loc[ticker]['cash_earnings'] = main_df.loc[ticker]['total_net_accruals'] - main_df.loc[ticker]['Profit after tax corporate income']"
   ]
  },
  {
   "cell_type": "code",
   "execution_count": null,
   "metadata": {},
   "outputs": [],
   "source": [
    "main_df.drop(['average_total_assets', 'average_total_capital', 'average_total_equity', 'average_receivables', 'average_inventory', 'average_payables'], axis=1, inplace=True)"
   ]
  },
  {
   "cell_type": "code",
   "execution_count": null,
   "metadata": {
    "scrolled": false
   },
   "outputs": [],
   "source": [
    "bg = main_df.columns.get_loc('current_ratio')\n",
    "end = main_df.columns.get_loc('cash_earnings')+1\n",
    "main_df.iloc[:, bg:end]"
   ]
  }
 ],
 "metadata": {
  "kernelspec": {
   "display_name": "Python 3",
   "language": "python",
   "name": "python3"
  },
  "language_info": {
   "codemirror_mode": {
    "name": "ipython",
    "version": 3
   },
   "file_extension": ".py",
   "mimetype": "text/x-python",
   "name": "python",
   "nbconvert_exporter": "python",
   "pygments_lexer": "ipython3",
   "version": "3.6.1"
  }
 },
 "nbformat": 4,
 "nbformat_minor": 2
}
