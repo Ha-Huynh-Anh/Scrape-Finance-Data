{
 "cells": [
  {
   "cell_type": "code",
   "execution_count": 1,
   "metadata": {
    "collapsed": true
   },
   "outputs": [],
   "source": [
    "import pandas as pd\n",
    "import numpy as np\n",
    "import matplotlib.pyplot as plt"
   ]
  },
  {
   "cell_type": "markdown",
   "metadata": {},
   "source": [
    "#### Rolling mean + difference"
   ]
  },
  {
   "cell_type": "code",
   "execution_count": 8,
   "metadata": {},
   "outputs": [],
   "source": [
    "df_test = pd.DataFrame({'A': [1,2,4,np.nan,np.nan,np.nan,np.nan,9,3]})\n",
    "df_test['B'] = np.array([np.nan for e in df_test['A'].values])\n",
    "# USE THIS!\n",
    "df_test['dA'] = df_test['A'].diff(1).fillna(0)\n",
    "df_test['dA_NaNs'] = df_test['A'].diff(1)\n",
    "df_test['rolling_mean'] = df_test['A'].rolling(window= 2, min_periods=1).mean()"
   ]
  },
  {
   "cell_type": "markdown",
   "metadata": {
    "collapsed": true
   },
   "source": [
    "#### Numpy std and Pandas std use different conventions. Pandas uses N-1 unbiased convention (for unknown population mean)."
   ]
  },
  {
   "cell_type": "code",
   "execution_count": 10,
   "metadata": {},
   "outputs": [
    {
     "name": "stdout",
     "output_type": "stream",
     "text": [
      "3.8\n",
      "3.8\n",
      "3.8\n"
     ]
    }
   ],
   "source": [
    "# print (df_test['A'].std(skipna=True))\n",
    "# print(np.nanstd(df_test['A']))\n",
    "print(np.nanmean(df_test['A']))\n",
    "print(np.mean(df_test['A']))\n",
    "print(df_test['A'].mean())\n",
    "df_test['normalize0'] = (df_test['A'] - df_test['A'].mean()) / df_test['A'].std()\n",
    "df_test['normalize1'] = (df_test['A'] - np.nanmean(df_test['A'])) / np.nanstd(df_test['A'])"
   ]
  }
 ],
 "metadata": {
  "kernelspec": {
   "display_name": "Python 3",
   "language": "python",
   "name": "python3"
  },
  "language_info": {
   "codemirror_mode": {
    "name": "ipython",
    "version": 3
   },
   "file_extension": ".py",
   "mimetype": "text/x-python",
   "name": "python",
   "nbconvert_exporter": "python",
   "pygments_lexer": "ipython3",
   "version": "3.6.1"
  }
 },
 "nbformat": 4,
 "nbformat_minor": 2
}
